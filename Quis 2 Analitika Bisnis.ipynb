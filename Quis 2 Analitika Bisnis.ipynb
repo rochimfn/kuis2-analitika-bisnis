{
 "cells": [
  {
   "cell_type": "markdown",
   "metadata": {
    "id": "45aNmZofbEvB"
   },
   "source": [
    "**Akhmad Syafrie Syamsudin - 05211840000115**\n",
    "\n",
    "**Rochim Farul Noviyan - 05211840000108**"
   ]
  },
  {
   "cell_type": "markdown",
   "metadata": {
    "id": "J_snfB6bbsZ1"
   },
   "source": [
    "# Library\n",
    "Dalam mengerjakan quiz 2 ini kami menggunakan beberapa library yaitu math, random, matplotlib, pandas dan ipython. \n",
    "\n",
    "* math, kami gunakan untuk menghitung akar pangkat\n",
    "* random, kami gunakan untuk mendapatkan angka acak\n",
    "* matplotlib, kami gunakan untuk memvisualisasikan data\n",
    "* ipython, kami gunakan untuk melakukan printing tabel\n",
    "\n"
   ]
  },
  {
   "cell_type": "code",
   "execution_count": 23,
   "metadata": {
    "id": "MI9l2sKxx1-8"
   },
   "outputs": [],
   "source": [
    "import math\n",
    "import random\n",
    "import matplotlib.pyplot as plt\n",
    "import pandas as pd\n",
    "from IPython.display import display"
   ]
  },
  {
   "cell_type": "markdown",
   "metadata": {
    "id": "FCPZ4hK51WtO"
   },
   "source": [
    "# Dataset\n",
    "\n",
    "Kami menggunakan dataset \n",
    "[burma14.tsp](http://elib.zib.de/pub/mp-testdata/tsp/tsplib/tsp/burma14.tsp). Didalam dataset tersebut terdapat 14 kota di negara burma lengkap dengan koordinatnya. Sayangnya kami tidak mengetahui satuan yang dipakai oleh dataset ini."
   ]
  },
  {
   "cell_type": "code",
   "execution_count": 24,
   "metadata": {
    "id": "iQaDjhPmY619"
   },
   "outputs": [],
   "source": [
    "dataset = [\n",
    "   (1, 16.47, 96.10),\n",
    "   (2, 16.47, 94.44),\n",
    "   (3, 20.09, 92.54),\n",
    "   (4, 22.39, 93.37),\n",
    "   (5, 25.23, 97.24),\n",
    "   (6, 22.00, 96.05),\n",
    "   (7, 20.47, 97.02),\n",
    "   (8, 17.20, 96.29),\n",
    "   (9, 16.30, 97.38),\n",
    "  (10, 14.05, 98.12),\n",
    "  (11, 16.53, 97.38),\n",
    "  (12, 21.52, 95.59),\n",
    "  (13, 19.41, 97.13),\n",
    "  (14, 20.09, 94.55)\n",
    "]"
   ]
  },
  {
   "cell_type": "markdown",
   "metadata": {
    "id": "GoWNrdRfgWCV"
   },
   "source": [
    "# Fungsi"
   ]
  },
  {
   "cell_type": "markdown",
   "metadata": {
    "id": "JCNV-421g1C3"
   },
   "source": [
    "## Fungsi `map_gen`\n",
    "Fungsi `map_gen` digunakan untuk menghasilkan matriks dua dimensi berisikan data jarak antar dua buah kota atau node. Fungsi ini menerima input berupa `list` yang didalamnya terdapat `list` atau `tuple` dengan index ke 1 berisikan koordinat x dan index ke 2 berisikan koordinat y. Jarak antar dua buah node ditentukan dengan rumus berikut."
   ]
  },
  {
   "cell_type": "markdown",
   "metadata": {
    "id": "4rQdlZQotUt4"
   },
   "source": [
    "![formula_1.png](formula_1.png)"
   ]
  },
  {
   "cell_type": "code",
   "execution_count": 25,
   "metadata": {
    "id": "o6EyvwVjY8X3"
   },
   "outputs": [],
   "source": [
    "def map_gen(dataset):\n",
    "  # Menentukan panjang dan lebar matriks\n",
    "  w, h = len(dataset), len(dataset)\n",
    "\n",
    "  # Membuat matriks kosong dengan panjang lebar sesuai panjang data\n",
    "  map = [[0 for x in range(w)] for y in range(h)] \n",
    "\n",
    "  # Mengisi matriks dengan data jarak menggunakan rumus\n",
    "  for i in range(len(dataset)):\n",
    "    for j in range(len(dataset)):\n",
    "      x1 = dataset[i][1]\n",
    "      x2 = dataset[j][1]\n",
    "      y1 = dataset[i][2]\n",
    "      y2 = dataset[j][2]\n",
    "      map[i][j] = round(math.sqrt(((x2-x1)**2) + ((y2-y1)**2)), 2)\n",
    "    \n",
    "  # Mengembalikan matriks\n",
    "  return map"
   ]
  },
  {
   "cell_type": "markdown",
   "metadata": {
    "id": "yt4zsknBta1f"
   },
   "source": [
    "## Fungsi `map_as_table`\n",
    "\n",
    "Fungsi `map_as_table` merupakan fungsi bantuan yang kami gunakan untuk menampilkan isi dari `list` sebagai tabel."
   ]
  },
  {
   "cell_type": "code",
   "execution_count": 26,
   "metadata": {
    "id": "GYqdOQAGT2kQ"
   },
   "outputs": [],
   "source": [
    "def map_as_table(map, **kwargs):\n",
    "  # Menjadikan `list` sebagai pandas data frame\n",
    "  df = pd.DataFrame(data=map)\n",
    "  \n",
    "  # Percabangan dibawah ini untuk keperluan kustomisasi nilai `columns`\n",
    "  # dan `index` dari dataframe\n",
    "  if \"columns\" in kwargs:\n",
    "    df.columns = kwargs.get(\"columns\")\n",
    "  else:\n",
    "    df.columns+=1\n",
    "\n",
    "  if \"index\" in kwargs:\n",
    "    df.index = kwargs.get(\"index\")\n",
    "  else:\n",
    "    df.index+=1\n",
    "  \n",
    "  # Visualisasi dataframe sebagai tabel dua dimensi\n",
    "  display(df)"
   ]
  },
  {
   "cell_type": "markdown",
   "metadata": {
    "id": "7p6uJN1yuH7U"
   },
   "source": [
    "## Fungsi `population_gen`\n",
    "\n",
    "Fungsi `population_gen` menerima dua input, dataset dan `number_of_population`. Fungsi ini mengahasilkan kromosom, dalam hal ini rute perjalanan, sebanyak isi dari argumen `number_of_population`."
   ]
  },
  {
   "cell_type": "code",
   "execution_count": 27,
   "metadata": {
    "id": "knWh9EFey8PI"
   },
   "outputs": [],
   "source": [
    "def population_gen(dataset, number_of_population):\n",
    "  # panjang dataset disimpan agar tidak perlu berkali kali memanggil fungsi len\n",
    "  dataset_length = len(dataset)\n",
    "\n",
    "  # Mempersiapkan `list` untuk menyimpan populasi baru\n",
    "  population = []\n",
    "\n",
    "  # Generate populasi dengan ukuran sesuai `number_of_population`\n",
    "  for i in range(number_of_population):\n",
    "    population.append( \n",
    "        # Randomisasi untuk mendapatkan kromosom dengan rentang sesuai dataset\n",
    "        random.sample( [i for i in range(dataset_length)], dataset_length ) \n",
    "    )\n",
    "  return population"
   ]
  },
  {
   "cell_type": "markdown",
   "metadata": {
    "id": "t4yqfUBbu0WZ"
   },
   "source": [
    "## Fungsi `fitness`\n",
    "\n",
    "Fungsi `fitness` merupakan salah satu fungsi yang sifatnya wajib dalam GA. Fungsi ini akan menghitung seberapa baik kromosom yang dihasilkan. Fungsi `fitness` kami menerima dua input yaitu `individu` dan `map`. Individu merupakan individual kromosom yang akan dinilai. Sedangkan `map` merupakan matriks dua dimensi yang didalamnya menyimpan informasi jarak antar kota atau node.\n",
    "\n",
    "Fungsi `fitness` mengembalikan `tuple` dengan isi nilai fitness, individu/kromosom dan jarak total. Perhitungan nilai fitness didasarkan pada rumus berikut."
   ]
  },
  {
   "cell_type": "markdown",
   "metadata": {
    "id": "DugkbT3Bvurk"
   },
   "source": [
    "![formula_2.png](formula_2.png)"
   ]
  },
  {
   "cell_type": "code",
   "execution_count": 28,
   "metadata": {
    "id": "7oJ0jWDJZgC-"
   },
   "outputs": [],
   "source": [
    "def fitness(individu, map):\n",
    "  # Inisiasi variabel untuk menyimpan total jarak\n",
    "  distance = 0\n",
    "\n",
    "  # Iterasi untuk mendapatkan total jarak\n",
    "  for idx in range(len(individu)):\n",
    "    if idx == (len(individu)-1):\n",
    "      break\n",
    "    else:\n",
    "      distance += map[individu[idx]][individu[idx+1]]\n",
    "      \n",
    "  # Mengembalikan nilai fitness, rute, dan jarak total\n",
    "  return ((1/distance), individu , distance)"
   ]
  },
  {
   "cell_type": "markdown",
   "metadata": {
    "id": "pYjZ3km-wEkc"
   },
   "source": [
    "## Fungsi `grade`\n",
    "\n",
    "Fungsi `grade` merupakan fungsi yang akan merangking individu dalam suatu populasi berdasarkan nilai fitness yang dimiliki. Fungsi ini akan mengembalikan `list` populasi dengan individu pemilik nilai fitness terbesar (total jarak terkecil) berada pada indeks terkecil."
   ]
  },
  {
   "cell_type": "code",
   "execution_count": 29,
   "metadata": {
    "id": "RkuVhsoxZlJn"
   },
   "outputs": [],
   "source": [
    "def grade(population, map, fitness):\n",
    "  # Menyiapkan `list` untuk menampung rute beserta dengan nilai fitnessnya\n",
    "  graded = []\n",
    "\n",
    "  # Mengisi `list` dengan rute dan nilai fitnessnya\n",
    "  for individu in population:\n",
    "    graded.append(fitness(individu, map))\n",
    "  \n",
    "  # Mengembalikan populasi yang telah di urutkan berdasarkan nilai fitness\n",
    "  # Rute dengan nilai fitness terbesar akan berada pada indeks yang kecil\n",
    "  return [i[1] for i in sorted(graded, reverse=True)]"
   ]
  },
  {
   "cell_type": "markdown",
   "metadata": {
    "id": "v6OkUNfdxaSG"
   },
   "source": [
    "## Fungsi `crossover`\n",
    "\n",
    "Fungsi `crossover` juga termasuk kedalam fungsi utama dalam GA. Fungsi `crossover` atau rekombinasi kami gunakan untuk menyilangkan dua individu terbaik dalam suatu populasi. Fungsi ini hanya menghasilkan satu *children/offspring* saja. Dengan menggunakan menggunakan metode *ordered crossover*."
   ]
  },
  {
   "cell_type": "code",
   "execution_count": 30,
   "metadata": {
    "id": "J006X2FIZySs"
   },
   "outputs": [],
   "source": [
    "def crossover(a, b):\n",
    "  # Menyiapkan `list` untuk menyimpan children\n",
    "  # Sebenarnya `list` tidak terlalu perlukan namun akan sangat membantu\n",
    "  # jika perlu mengembalikan lebih dari satu children\n",
    "  child = []\n",
    "  def cross(parent1, parent2):\n",
    "    # Melakukan crossover dengan metode ordered crossover\n",
    "    div_idx_1 = 5\n",
    "    div_idx_2 = 10\n",
    "    slices = parent1[div_idx_1:div_idx_2]\n",
    "    not_in_slices = [i for i in parent2 if i not in slices]\n",
    "    offspring = not_in_slices[0:div_idx_1] + slices + not_in_slices[div_idx_1:]\n",
    "    return offspring\n",
    "  \n",
    "  child.append(cross(a,b))\n",
    "  return child[0]\n",
    "  # child.append(cross(b,a))\n",
    "  # return child"
   ]
  },
  {
   "cell_type": "markdown",
   "metadata": {
    "id": "sWjtmFNWySNq"
   },
   "source": [
    "## Fungsi `mutate`\n",
    "\n",
    "Fungsi `mutate` merupakan fungsi untuk menghasilkan individu *mutant*. Fungsi ini menerima dua input yaitu `individu` dan `chance_to_mutate`. Individu merupakan kromosom atau individu yang akan dimutasi. Sedangkan `chance_to_mutate` sebagai pengatur probabilitas apakah suatu individu itu perlu dimutasi atau tidak. Metode yang kami gunakan untuk memutasi adalah *reciprocal exchange mutation*.\n",
    "\n",
    "Fungsi `mutate` yang kami implementasikan termasuk kedalam fungsi *non-deterministik* karena didalamnya terdapat randomisasi oleh fungsi `random.random()`. Fungsi tersebut memungkinkan terjadinya `side-effect` dimana fungsi dapat menghasilkan luaran yang berbeda meskipun inputnya sama. Fungsi `mutate` juga termasuk sebagai fungsi utama algoritma GA."
   ]
  },
  {
   "cell_type": "code",
   "execution_count": 31,
   "metadata": {
    "id": "XXzaTli4Zpdd"
   },
   "outputs": [],
   "source": [
    "def mutate(individu, chance_to_mutate) :\n",
    "  # Menyalin kromosom agar mendukung konsep \"immutability\"\n",
    "  mutant = individu[:]\n",
    "  # Randomisasi untuk menentukan apakah mutasi perlu dilakukan dan dimana\n",
    "  r = random.random()\n",
    "  first_idx = random.randint(0, len(individu)-1)\n",
    "  second_idx = random.randint(0, len(individu)-1)\n",
    "  if chance_to_mutate > r:\n",
    "    # Memutasi mutant dengan metode reciprocal exchange mutation\n",
    "    mutant[first_idx],mutant[second_idx] = mutant[second_idx],mutant[first_idx]\n",
    "  return mutant\n"
   ]
  },
  {
   "cell_type": "markdown",
   "metadata": {
    "id": "ATDxA5_q0Nfz"
   },
   "source": [
    "## Fungsi `plot_best`\n",
    "Fungsi `plot_best` merupakan fungsi bantuan yang kami buat untuk memvisualisaksikan rute atau kromosom atau individu kedalam peta."
   ]
  },
  {
   "cell_type": "code",
   "execution_count": 32,
   "metadata": {
    "id": "3UGAzjcjoX3v"
   },
   "outputs": [],
   "source": [
    "def plot_best(route, map):\n",
    "  # Untuk membersihkan kanvas, agar visualisasi tidak tertumpuk\n",
    "  plt.figure()\n",
    "\n",
    "  # Pemetaan nilai x dan y\n",
    "  x=[0.5] + [x + 0.5 for x in route[0:len(route)-1]] + [len(map) - 0.5]\n",
    "  y=[0.5] + [x + 0.5 for x in route[1:len(route)]] + [len(map) - 0.5]\n",
    "\n",
    "  # Menampilkan plotting\n",
    "  plt.plot(\n",
    "      x,\n",
    "      y,\n",
    "      marker = 'o',\n",
    "      linewidth=1,\n",
    "      markersize=5,\n",
    "      linestyle = \"-\",\n",
    "      color='teal'\n",
    "      )"
   ]
  },
  {
   "cell_type": "markdown",
   "metadata": {
    "id": "apz_3Z_717xY"
   },
   "source": [
    "## Fungsi `main`\n",
    "\n",
    "Fungsi `main` merupakan fungsi utama dari keseluruhan program kami. Fungsi `main` berperan dalam mengatur alur program berjalan dan pemanggilan fungsi yang telah kami definisikan pada bagian sebelumnya.\n",
    "\n",
    "Dalam menyusun alur program kami menggunakan referensi berupa paper dengan judul *Implementasi Kombinasi Algoritma Genetika dan Tabu Search untuk Penyelesaian Travelling Salesman Problem*. Paper tersebut dapat ditemukan pada tautan [berikut.](https://journal.uii.ac.id/AUTOMATA/article/view/17343) Namun terdapat alur yang kami rubah karena disini kami hanya fokus pada Genetic Algorithm saja tanpa bantuan Tabu Search.\n",
    "\n",
    "Dalam fungsi `main` kami mendefinisikan 3 konstan yaitu `NUMBER_OF_POPULATION`, `NUMBER_OF_GENERATION`, dan `CHANCE_TO_MUTATE`. Konstan pertama, `NUMBER_OF_POPULATION`, kami gunakan sebagai penentu ukuran populasi awal yang akan di*generate*. Kami memilih ukuran 5 karena menyesuaikan dengan paper [rujukan](https://journal.uii.ac.id/AUTOMATA/article/view/17343) kami. Konstan kedua, `NUMBER_OF_GENERATION`, menentukan jumlah iterasi yang akan dilakukan oleh program. Pemilihan 100 sebagai jumlah iterasi adalah murni inisiatif kami sendiri. Karena menurut kami 100 generasi sudah cukup untuk menunjukkan bagaimana GA membantu penyelesaian permasalahan TSP. Konstan terakhir, `CHANCE_TO_MUTATE`, berfungsi sebagai pengatur probabilitas mutasi. Kami memilih nilai 1 agar mutasi selalu terjadi dan pergantian generasi terbaik menjadi lebih cepat."
   ]
  },
  {
   "cell_type": "code",
   "execution_count": 33,
   "metadata": {
    "colab": {
     "base_uri": "https://localhost:8080/",
     "height": 1000
    },
    "id": "fI2C3s97ZSRh",
    "outputId": "7fc68a8b-ec98-47b4-8234-eddcfabaee84"
   },
   "outputs": [
    {
     "data": {
      "text/html": [
       "<div>\n",
       "<style scoped>\n",
       "    .dataframe tbody tr th:only-of-type {\n",
       "        vertical-align: middle;\n",
       "    }\n",
       "\n",
       "    .dataframe tbody tr th {\n",
       "        vertical-align: top;\n",
       "    }\n",
       "\n",
       "    .dataframe thead th {\n",
       "        text-align: right;\n",
       "    }\n",
       "</style>\n",
       "<table border=\"1\" class=\"dataframe\">\n",
       "  <thead>\n",
       "    <tr style=\"text-align: right;\">\n",
       "      <th></th>\n",
       "      <th>1</th>\n",
       "      <th>2</th>\n",
       "      <th>3</th>\n",
       "      <th>4</th>\n",
       "      <th>5</th>\n",
       "      <th>6</th>\n",
       "      <th>7</th>\n",
       "      <th>8</th>\n",
       "      <th>9</th>\n",
       "      <th>10</th>\n",
       "      <th>11</th>\n",
       "      <th>12</th>\n",
       "      <th>13</th>\n",
       "      <th>14</th>\n",
       "    </tr>\n",
       "  </thead>\n",
       "  <tbody>\n",
       "    <tr>\n",
       "      <th>1</th>\n",
       "      <td>0.00</td>\n",
       "      <td>1.66</td>\n",
       "      <td>5.08</td>\n",
       "      <td>6.52</td>\n",
       "      <td>8.83</td>\n",
       "      <td>5.53</td>\n",
       "      <td>4.10</td>\n",
       "      <td>0.75</td>\n",
       "      <td>1.29</td>\n",
       "      <td>3.15</td>\n",
       "      <td>1.28</td>\n",
       "      <td>5.08</td>\n",
       "      <td>3.12</td>\n",
       "      <td>3.94</td>\n",
       "    </tr>\n",
       "    <tr>\n",
       "      <th>2</th>\n",
       "      <td>1.66</td>\n",
       "      <td>0.00</td>\n",
       "      <td>4.09</td>\n",
       "      <td>6.02</td>\n",
       "      <td>9.20</td>\n",
       "      <td>5.76</td>\n",
       "      <td>4.76</td>\n",
       "      <td>1.99</td>\n",
       "      <td>2.94</td>\n",
       "      <td>4.40</td>\n",
       "      <td>2.94</td>\n",
       "      <td>5.18</td>\n",
       "      <td>3.98</td>\n",
       "      <td>3.62</td>\n",
       "    </tr>\n",
       "    <tr>\n",
       "      <th>3</th>\n",
       "      <td>5.08</td>\n",
       "      <td>4.09</td>\n",
       "      <td>0.00</td>\n",
       "      <td>2.45</td>\n",
       "      <td>6.96</td>\n",
       "      <td>4.00</td>\n",
       "      <td>4.50</td>\n",
       "      <td>4.73</td>\n",
       "      <td>6.15</td>\n",
       "      <td>8.22</td>\n",
       "      <td>6.01</td>\n",
       "      <td>3.37</td>\n",
       "      <td>4.64</td>\n",
       "      <td>2.01</td>\n",
       "    </tr>\n",
       "    <tr>\n",
       "      <th>4</th>\n",
       "      <td>6.52</td>\n",
       "      <td>6.02</td>\n",
       "      <td>2.45</td>\n",
       "      <td>0.00</td>\n",
       "      <td>4.80</td>\n",
       "      <td>2.71</td>\n",
       "      <td>4.12</td>\n",
       "      <td>5.96</td>\n",
       "      <td>7.29</td>\n",
       "      <td>9.60</td>\n",
       "      <td>7.10</td>\n",
       "      <td>2.38</td>\n",
       "      <td>4.80</td>\n",
       "      <td>2.59</td>\n",
       "    </tr>\n",
       "    <tr>\n",
       "      <th>5</th>\n",
       "      <td>8.83</td>\n",
       "      <td>9.20</td>\n",
       "      <td>6.96</td>\n",
       "      <td>4.80</td>\n",
       "      <td>0.00</td>\n",
       "      <td>3.44</td>\n",
       "      <td>4.77</td>\n",
       "      <td>8.09</td>\n",
       "      <td>8.93</td>\n",
       "      <td>11.21</td>\n",
       "      <td>8.70</td>\n",
       "      <td>4.06</td>\n",
       "      <td>5.82</td>\n",
       "      <td>5.80</td>\n",
       "    </tr>\n",
       "    <tr>\n",
       "      <th>6</th>\n",
       "      <td>5.53</td>\n",
       "      <td>5.76</td>\n",
       "      <td>4.00</td>\n",
       "      <td>2.71</td>\n",
       "      <td>3.44</td>\n",
       "      <td>0.00</td>\n",
       "      <td>1.81</td>\n",
       "      <td>4.81</td>\n",
       "      <td>5.85</td>\n",
       "      <td>8.22</td>\n",
       "      <td>5.63</td>\n",
       "      <td>0.66</td>\n",
       "      <td>2.81</td>\n",
       "      <td>2.43</td>\n",
       "    </tr>\n",
       "    <tr>\n",
       "      <th>7</th>\n",
       "      <td>4.10</td>\n",
       "      <td>4.76</td>\n",
       "      <td>4.50</td>\n",
       "      <td>4.12</td>\n",
       "      <td>4.77</td>\n",
       "      <td>1.81</td>\n",
       "      <td>0.00</td>\n",
       "      <td>3.35</td>\n",
       "      <td>4.19</td>\n",
       "      <td>6.51</td>\n",
       "      <td>3.96</td>\n",
       "      <td>1.77</td>\n",
       "      <td>1.07</td>\n",
       "      <td>2.50</td>\n",
       "    </tr>\n",
       "    <tr>\n",
       "      <th>8</th>\n",
       "      <td>0.75</td>\n",
       "      <td>1.99</td>\n",
       "      <td>4.73</td>\n",
       "      <td>5.96</td>\n",
       "      <td>8.09</td>\n",
       "      <td>4.81</td>\n",
       "      <td>3.35</td>\n",
       "      <td>0.00</td>\n",
       "      <td>1.41</td>\n",
       "      <td>3.64</td>\n",
       "      <td>1.28</td>\n",
       "      <td>4.38</td>\n",
       "      <td>2.36</td>\n",
       "      <td>3.37</td>\n",
       "    </tr>\n",
       "    <tr>\n",
       "      <th>9</th>\n",
       "      <td>1.29</td>\n",
       "      <td>2.94</td>\n",
       "      <td>6.15</td>\n",
       "      <td>7.29</td>\n",
       "      <td>8.93</td>\n",
       "      <td>5.85</td>\n",
       "      <td>4.19</td>\n",
       "      <td>1.41</td>\n",
       "      <td>0.00</td>\n",
       "      <td>2.37</td>\n",
       "      <td>0.23</td>\n",
       "      <td>5.52</td>\n",
       "      <td>3.12</td>\n",
       "      <td>4.73</td>\n",
       "    </tr>\n",
       "    <tr>\n",
       "      <th>10</th>\n",
       "      <td>3.15</td>\n",
       "      <td>4.40</td>\n",
       "      <td>8.22</td>\n",
       "      <td>9.60</td>\n",
       "      <td>11.21</td>\n",
       "      <td>8.22</td>\n",
       "      <td>6.51</td>\n",
       "      <td>3.64</td>\n",
       "      <td>2.37</td>\n",
       "      <td>0.00</td>\n",
       "      <td>2.59</td>\n",
       "      <td>7.89</td>\n",
       "      <td>5.45</td>\n",
       "      <td>7.02</td>\n",
       "    </tr>\n",
       "    <tr>\n",
       "      <th>11</th>\n",
       "      <td>1.28</td>\n",
       "      <td>2.94</td>\n",
       "      <td>6.01</td>\n",
       "      <td>7.10</td>\n",
       "      <td>8.70</td>\n",
       "      <td>5.63</td>\n",
       "      <td>3.96</td>\n",
       "      <td>1.28</td>\n",
       "      <td>0.23</td>\n",
       "      <td>2.59</td>\n",
       "      <td>0.00</td>\n",
       "      <td>5.30</td>\n",
       "      <td>2.89</td>\n",
       "      <td>4.55</td>\n",
       "    </tr>\n",
       "    <tr>\n",
       "      <th>12</th>\n",
       "      <td>5.08</td>\n",
       "      <td>5.18</td>\n",
       "      <td>3.37</td>\n",
       "      <td>2.38</td>\n",
       "      <td>4.06</td>\n",
       "      <td>0.66</td>\n",
       "      <td>1.77</td>\n",
       "      <td>4.38</td>\n",
       "      <td>5.52</td>\n",
       "      <td>7.89</td>\n",
       "      <td>5.30</td>\n",
       "      <td>0.00</td>\n",
       "      <td>2.61</td>\n",
       "      <td>1.77</td>\n",
       "    </tr>\n",
       "    <tr>\n",
       "      <th>13</th>\n",
       "      <td>3.12</td>\n",
       "      <td>3.98</td>\n",
       "      <td>4.64</td>\n",
       "      <td>4.80</td>\n",
       "      <td>5.82</td>\n",
       "      <td>2.81</td>\n",
       "      <td>1.07</td>\n",
       "      <td>2.36</td>\n",
       "      <td>3.12</td>\n",
       "      <td>5.45</td>\n",
       "      <td>2.89</td>\n",
       "      <td>2.61</td>\n",
       "      <td>0.00</td>\n",
       "      <td>2.67</td>\n",
       "    </tr>\n",
       "    <tr>\n",
       "      <th>14</th>\n",
       "      <td>3.94</td>\n",
       "      <td>3.62</td>\n",
       "      <td>2.01</td>\n",
       "      <td>2.59</td>\n",
       "      <td>5.80</td>\n",
       "      <td>2.43</td>\n",
       "      <td>2.50</td>\n",
       "      <td>3.37</td>\n",
       "      <td>4.73</td>\n",
       "      <td>7.02</td>\n",
       "      <td>4.55</td>\n",
       "      <td>1.77</td>\n",
       "      <td>2.67</td>\n",
       "      <td>0.00</td>\n",
       "    </tr>\n",
       "  </tbody>\n",
       "</table>\n",
       "</div>"
      ],
      "text/plain": [
       "      1     2     3     4      5     6     7     8     9      10    11    12  \\\n",
       "1   0.00  1.66  5.08  6.52   8.83  5.53  4.10  0.75  1.29   3.15  1.28  5.08   \n",
       "2   1.66  0.00  4.09  6.02   9.20  5.76  4.76  1.99  2.94   4.40  2.94  5.18   \n",
       "3   5.08  4.09  0.00  2.45   6.96  4.00  4.50  4.73  6.15   8.22  6.01  3.37   \n",
       "4   6.52  6.02  2.45  0.00   4.80  2.71  4.12  5.96  7.29   9.60  7.10  2.38   \n",
       "5   8.83  9.20  6.96  4.80   0.00  3.44  4.77  8.09  8.93  11.21  8.70  4.06   \n",
       "6   5.53  5.76  4.00  2.71   3.44  0.00  1.81  4.81  5.85   8.22  5.63  0.66   \n",
       "7   4.10  4.76  4.50  4.12   4.77  1.81  0.00  3.35  4.19   6.51  3.96  1.77   \n",
       "8   0.75  1.99  4.73  5.96   8.09  4.81  3.35  0.00  1.41   3.64  1.28  4.38   \n",
       "9   1.29  2.94  6.15  7.29   8.93  5.85  4.19  1.41  0.00   2.37  0.23  5.52   \n",
       "10  3.15  4.40  8.22  9.60  11.21  8.22  6.51  3.64  2.37   0.00  2.59  7.89   \n",
       "11  1.28  2.94  6.01  7.10   8.70  5.63  3.96  1.28  0.23   2.59  0.00  5.30   \n",
       "12  5.08  5.18  3.37  2.38   4.06  0.66  1.77  4.38  5.52   7.89  5.30  0.00   \n",
       "13  3.12  3.98  4.64  4.80   5.82  2.81  1.07  2.36  3.12   5.45  2.89  2.61   \n",
       "14  3.94  3.62  2.01  2.59   5.80  2.43  2.50  3.37  4.73   7.02  4.55  1.77   \n",
       "\n",
       "      13    14  \n",
       "1   3.12  3.94  \n",
       "2   3.98  3.62  \n",
       "3   4.64  2.01  \n",
       "4   4.80  2.59  \n",
       "5   5.82  5.80  \n",
       "6   2.81  2.43  \n",
       "7   1.07  2.50  \n",
       "8   2.36  3.37  \n",
       "9   3.12  4.73  \n",
       "10  5.45  7.02  \n",
       "11  2.89  4.55  \n",
       "12  2.61  1.77  \n",
       "13  0.00  2.67  \n",
       "14  2.67  0.00  "
      ]
     },
     "metadata": {},
     "output_type": "display_data"
    },
    {
     "data": {
      "text/html": [
       "<div>\n",
       "<style scoped>\n",
       "    .dataframe tbody tr th:only-of-type {\n",
       "        vertical-align: middle;\n",
       "    }\n",
       "\n",
       "    .dataframe tbody tr th {\n",
       "        vertical-align: top;\n",
       "    }\n",
       "\n",
       "    .dataframe thead th {\n",
       "        text-align: right;\n",
       "    }\n",
       "</style>\n",
       "<table border=\"1\" class=\"dataframe\">\n",
       "  <thead>\n",
       "    <tr style=\"text-align: right;\">\n",
       "      <th></th>\n",
       "      <th>generation</th>\n",
       "      <th>distance</th>\n",
       "      <th>best_distance</th>\n",
       "    </tr>\n",
       "  </thead>\n",
       "  <tbody>\n",
       "    <tr>\n",
       "      <th>1</th>\n",
       "      <td>1</td>\n",
       "      <td>52.21</td>\n",
       "      <td>52.21</td>\n",
       "    </tr>\n",
       "    <tr>\n",
       "      <th>2</th>\n",
       "      <td>2</td>\n",
       "      <td>56.64</td>\n",
       "      <td>52.21</td>\n",
       "    </tr>\n",
       "    <tr>\n",
       "      <th>3</th>\n",
       "      <td>3</td>\n",
       "      <td>48.05</td>\n",
       "      <td>48.05</td>\n",
       "    </tr>\n",
       "    <tr>\n",
       "      <th>4</th>\n",
       "      <td>4</td>\n",
       "      <td>48.94</td>\n",
       "      <td>48.05</td>\n",
       "    </tr>\n",
       "    <tr>\n",
       "      <th>5</th>\n",
       "      <td>5</td>\n",
       "      <td>55.39</td>\n",
       "      <td>48.05</td>\n",
       "    </tr>\n",
       "    <tr>\n",
       "      <th>...</th>\n",
       "      <td>...</td>\n",
       "      <td>...</td>\n",
       "      <td>...</td>\n",
       "    </tr>\n",
       "    <tr>\n",
       "      <th>96</th>\n",
       "      <td>96</td>\n",
       "      <td>52.72</td>\n",
       "      <td>37.83</td>\n",
       "    </tr>\n",
       "    <tr>\n",
       "      <th>97</th>\n",
       "      <td>97</td>\n",
       "      <td>55.99</td>\n",
       "      <td>37.83</td>\n",
       "    </tr>\n",
       "    <tr>\n",
       "      <th>98</th>\n",
       "      <td>98</td>\n",
       "      <td>52.72</td>\n",
       "      <td>37.83</td>\n",
       "    </tr>\n",
       "    <tr>\n",
       "      <th>99</th>\n",
       "      <td>99</td>\n",
       "      <td>50.40</td>\n",
       "      <td>37.83</td>\n",
       "    </tr>\n",
       "    <tr>\n",
       "      <th>100</th>\n",
       "      <td>100</td>\n",
       "      <td>54.98</td>\n",
       "      <td>37.83</td>\n",
       "    </tr>\n",
       "  </tbody>\n",
       "</table>\n",
       "<p>100 rows × 3 columns</p>\n",
       "</div>"
      ],
      "text/plain": [
       "     generation  distance  best_distance\n",
       "1             1     52.21          52.21\n",
       "2             2     56.64          52.21\n",
       "3             3     48.05          48.05\n",
       "4             4     48.94          48.05\n",
       "5             5     55.39          48.05\n",
       "..          ...       ...            ...\n",
       "96           96     52.72          37.83\n",
       "97           97     55.99          37.83\n",
       "98           98     52.72          37.83\n",
       "99           99     50.40          37.83\n",
       "100         100     54.98          37.83\n",
       "\n",
       "[100 rows x 3 columns]"
      ]
     },
     "metadata": {},
     "output_type": "display_data"
    },
    {
     "name": "stdout",
     "output_type": "stream",
     "text": [
      "Rute terbaik yang ditemukan [4, 9, 12, 3, 6, 5, 10, 0, 1, 7, 11, 13, 8, 2]\n",
      "Dengan jarak 54.98000000000001\n"
     ]
    },
    {
     "data": {
      "image/png": "[encoded data removed]",
      "text/plain": [
       "<Figure size 432x288 with 1 Axes>"
      ]
     },
     "metadata": {
      "needs_background": "light"
     },
     "output_type": "display_data"
    },
    {
     "data": {
      "image/png": "[encoded data removed]",
      "text/plain": [
       "<Figure size 432x288 with 1 Axes>"
      ]
     },
     "metadata": {
      "needs_background": "light"
     },
     "output_type": "display_data"
    }
   ],
   "source": [
    "def main(dataset):\n",
    "  # Konversi dataset menjadi matrix jarak\n",
    "  map = map_gen(dataset)\n",
    "  map_as_table(map)\n",
    "\n",
    "  # Menentukan jumlah populasi dan generasi\n",
    "  NUMBER_OF_POPULATION = 5 \n",
    "  NUMBER_OF_GENERATION = 100\n",
    "  CHANCE_TO_MUTATE = 1\n",
    "\n",
    "  # Sampling populasi\n",
    "  population = population_gen(dataset, NUMBER_OF_POPULATION)\n",
    "\n",
    "  # Menyimpan kromosom terbaik tiap generasi\n",
    "  best_per_gen = []\n",
    "  best_route = None\n",
    "\n",
    "  # Iterasi untuk setiap generasi\n",
    "  for generation in range(NUMBER_OF_GENERATION):\n",
    "\n",
    "    # Grading\n",
    "    graded_population = grade(population, map, fitness)\n",
    "\n",
    "    # Mengambil dua terbaik untuk di silangkan\n",
    "    grade_one = graded_population[0]\n",
    "    grade_two = graded_population[1]\n",
    "\n",
    "    population.remove(grade_one)\n",
    "\n",
    "    # Menyimpan yang terbaik\n",
    "    if best_route is None:\n",
    "      best_per_gen.append((generation+1, grade_one, grade_one))\n",
    "      best_route = grade_one[:]\n",
    "    else:\n",
    "      if fitness(grade_one,map)[2] < fitness(best_route,map)[2]:\n",
    "        best_route = grade_one[:]\n",
    "      best_per_gen.append((generation+1, grade_one, best_route))\n",
    "\n",
    "        \n",
    "    # Menyilangkan untuk mendapatkan anak baru\n",
    "    child = crossover(grade_one, grade_two)\n",
    "\n",
    "    # Memutasi anak\n",
    "    mutant = mutate(child, CHANCE_TO_MUTATE)\n",
    "\n",
    "    # Menambahkan anak ke populasi\n",
    "    population.append(mutant)\n",
    "\n",
    "  # Pemetaan hasil kedalam list\n",
    "  results = []\n",
    "  for idx, route, best_route in best_per_gen:\n",
    "    distance = fitness(route, map)[2]\n",
    "    best_distance = fitness(best_route, map)[2]\n",
    "    results.append([idx, distance, best_distance])\n",
    "\n",
    "  # Menampilkan hasil sebagai tabel\n",
    "  map_as_table(results, columns=['generation', 'distance', 'best_distance'])\n",
    "\n",
    "  # Menjadikan hasil sebagai pandas dataframe\n",
    "  df = pd.DataFrame(\n",
    "      data=results,\n",
    "      columns=['generation', 'distance', 'best_distance']\n",
    "    )\n",
    "  \n",
    "  # Memvisualkan grafik konvergen dan best fitness per generasi\n",
    "  df.plot.line(x='generation', y=['best_distance', 'distance'])\n",
    "\n",
    "  # Rute terbaik\n",
    "  route = best_per_gen[-1][1]\n",
    "  print(f'Rute terbaik yang ditemukan {route}')\n",
    "  print(f'Dengan jarak {fitness(route,map)[2]}')\n",
    "\n",
    "  # Memvisualkan rute terbaik\n",
    "  plot_best(route, map)\n",
    "\n",
    "# Memanggil fungsi main\n",
    "main(dataset)"
   ]
  }
 ],
 "metadata": {
  "colab": {
   "collapsed_sections": [],
   "name": "Quiz 2 Analitika Bisnis",
   "provenance": []
  },
  "kernelspec": {
   "display_name": "Python 3",
   "language": "python",
   "name": "python3"
  },
  "language_info": {
   "codemirror_mode": {
    "name": "ipython",
    "version": 3
   },
   "file_extension": ".py",
   "mimetype": "text/x-python",
   "name": "python",
   "nbconvert_exporter": "python",
   "pygments_lexer": "ipython3",
   "version": "3.9.2"
  }
 },
 "nbformat": 4,
 "nbformat_minor": 4
}
